{
 "cells": [
  {
   "cell_type": "markdown",
   "id": "17f75e73",
   "metadata": {},
   "source": [
    "# Lab 1 — Task 2: Game of Thrones Houses / Dynasties Network\n",
    "\n",
    "**Goal**: Build a network of houses and their characters.\n",
    "\n",
    "- **House node** per group (e.g., Stark, Lannister, Targaryen, …)  \n",
    "- **Character node** per person listed under each house  \n",
    "- **Edges** = house → character (directed solely for visual hierarchy)  \n",
    "- **House node size** scales with number of characters in that house\n",
    "\n",
    "**Inputs**: `data/game-of-thrones-characters-groups.json`  \n",
    "**Output HTML**: `L1_Task2_GameOfThronesHouses.html`"
   ]
  },
  {
   "cell_type": "code",
   "execution_count": 2,
   "id": "1d93d4f6",
   "metadata": {},
   "outputs": [
    {
     "name": "stdout",
     "output_type": "stream",
     "text": [
      "\n",
      "\u001b[1m[\u001b[0m\u001b[34;49mnotice\u001b[0m\u001b[1;39;49m]\u001b[0m\u001b[39;49m A new release of pip is available: \u001b[0m\u001b[31;49m25.0\u001b[0m\u001b[39;49m -> \u001b[0m\u001b[32;49m25.2\u001b[0m\n",
      "\u001b[1m[\u001b[0m\u001b[34;49mnotice\u001b[0m\u001b[1;39;49m]\u001b[0m\u001b[39;49m To update, run: \u001b[0m\u001b[32;49mpip install --upgrade pip\u001b[0m\n",
      "Note: you may need to restart the kernel to use updated packages.\n"
     ]
    }
   ],
   "source": [
    "# If needed (e.g., in Colab or a fresh env), uncomment to install dependencies:\n",
    "%pip install --quiet pyvis"
   ]
  },
  {
   "cell_type": "code",
   "execution_count": 3,
   "id": "c7de4f61",
   "metadata": {},
   "outputs": [
    {
     "name": "stdout",
     "output_type": "stream",
     "text": [
      "✅ Wrote L1_Task2_GameOfThronesHouses.html\n"
     ]
    }
   ],
   "source": [
    "import json\n",
    "from pathlib import Path\n",
    "from pyvis.network import Network\n",
    "\n",
    "json_path = \"data/game-of-thrones-characters-groups.json\"\n",
    "with open(json_path, \"r\", encoding=\"utf-8\") as f:\n",
    "    data = json.load(f)\n",
    "\n",
    "groups = data.get(\"groups\", [])\n",
    "\n",
    "# ---- Build network ----\n",
    "net = Network(\n",
    "    height=\"1000px\",\n",
    "    width=\"100%\",\n",
    "    bgcolor=\"#242020\",\n",
    "    font_color=\"white\",\n",
    "    directed=True,\n",
    "    cdn_resources=\"remote\",\n",
    ")\n",
    "\n",
    "# Deterministic color palette for houses\n",
    "palette = [\n",
    "    \"#f67088\", \"#eb7f31\", \"#c09531\", \"#a0a131\", \"#70ac31\", \"#32b06e\",\n",
    "    \"#34ad97\", \"#36abaf\", \"#38a8cb\", \"#629cf4\", \"#7b7cff\", \"#b879ff\",\n",
    "    \"#e76cff\", \"#ff6cb1\", \"#ff6c6c\", \"#ff9b6c\", \"#ffc36c\", \"#ffd86c\"\n",
    "]\n",
    "\n",
    "def color_for_idx(i):\n",
    "    return palette[i % len(palette)]\n",
    "\n",
    "for i, grp in enumerate(groups):\n",
    "    house = grp.get(\"name\", \"\").strip()\n",
    "    chars = grp.get(\"characters\", [])\n",
    "\n",
    "    if not house:\n",
    "        # Skip any unnamed groups\n",
    "        continue\n",
    "\n",
    "    house_size = max(4, min(20, 5 + len(chars)))  # scale house node size\n",
    "    net.add_node(\n",
    "        house,\n",
    "        label=house,\n",
    "        color=color_for_idx(i),\n",
    "        size=house_size,\n",
    "        shape=\"dot\"\n",
    "    )\n",
    "\n",
    "    for c in chars:\n",
    "        c = c.strip()\n",
    "        if not c:\n",
    "            continue\n",
    "        # Use smaller nodes for characters\n",
    "        net.add_node(c, label=c, color=color_for_idx(i), size=10, shape=\"dot\")\n",
    "        net.add_edge(house, c)  # simple hierarchy edge\n",
    "\n",
    "# (Optional) Physics\n",
    "net.set_options('''\n",
    "{\n",
    "  \"edges\": {\n",
    "    \"smooth\": { \"enabled\": true, \"type\": \"dynamic\" }\n",
    "  },\n",
    "  \"physics\": {\n",
    "    \"enabled\": true,\n",
    "    \"stabilization\": { \"enabled\": true, \"iterations\": 1000 }\n",
    "  },\n",
    "  \"interaction\": {\n",
    "    \"dragNodes\": true,\n",
    "    \"hideEdgesOnDrag\": false,\n",
    "    \"hideNodesOnDrag\": false\n",
    "  }\n",
    "}\n",
    "''')\n",
    "\n",
    "out_html = \"L1_Task2_GameOfThronesHouses.html\"\n",
    "net.write_html(out_html)\n",
    "print(f\"✅ Wrote {out_html}\")"
   ]
  }
 ],
 "metadata": {
  "kernelspec": {
   "display_name": ".venv",
   "language": "python",
   "name": "python3"
  },
  "language_info": {
   "codemirror_mode": {
    "name": "ipython",
    "version": 3
   },
   "file_extension": ".py",
   "mimetype": "text/x-python",
   "name": "python",
   "nbconvert_exporter": "python",
   "pygments_lexer": "ipython3",
   "version": "3.13.2"
  }
 },
 "nbformat": 4,
 "nbformat_minor": 5
}
