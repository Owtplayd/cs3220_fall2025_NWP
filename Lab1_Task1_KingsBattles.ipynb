{
 "cells": [
  {
   "cell_type": "markdown",
   "id": "c9187e0d",
   "metadata": {},
   "source": [
    "# Lab 1 — Task 1: Kings Battles Network (Game of Thrones)\n",
    "\n",
    "**Goal**: Build a **directed** co-occurrence network of kings who fought in the same battles.\n",
    "\n",
    "- **Nodes** = Kings (attackers + defenders)  \n",
    "- **Edges** = *attacker → defender*  \n",
    "- **Edge weight** = number of battles between the pair  \n",
    "- **Edge title/tooltip** = list of battle names (and sizes when available)  \n",
    "- **Node size (value)** = 1 + number of distinct kings this king has attacked (out-degree + 1)\n",
    "\n",
    "**Inputs**: `data/game-of-thrones-battles.csv`  \n",
    "**Output HTML**: `Lab1-task1-net5kings.html`"
   ]
  },
  {
   "cell_type": "code",
   "execution_count": 2,
   "id": "db74899f",
   "metadata": {},
   "outputs": [
    {
     "name": "stdout",
     "output_type": "stream",
     "text": [
      "\n",
      "\u001b[1m[\u001b[0m\u001b[34;49mnotice\u001b[0m\u001b[1;39;49m]\u001b[0m\u001b[39;49m A new release of pip is available: \u001b[0m\u001b[31;49m25.0\u001b[0m\u001b[39;49m -> \u001b[0m\u001b[32;49m25.2\u001b[0m\n",
      "\u001b[1m[\u001b[0m\u001b[34;49mnotice\u001b[0m\u001b[1;39;49m]\u001b[0m\u001b[39;49m To update, run: \u001b[0m\u001b[32;49mpip install --upgrade pip\u001b[0m\n",
      "Note: you may need to restart the kernel to use updated packages.\n"
     ]
    }
   ],
   "source": [
    "# If needed (e.g., in Colab or a fresh env), uncomment to install dependencies:\n",
    "%pip install --quiet pyvis pandas"
   ]
  },
  {
   "cell_type": "code",
   "execution_count": 3,
   "id": "3d4c41df",
   "metadata": {},
   "outputs": [
    {
     "name": "stdout",
     "output_type": "stream",
     "text": [
      "✅ Wrote Lab1-task1-net5kings.html\n"
     ]
    },
    {
     "name": "stderr",
     "output_type": "stream",
     "text": [
      "/var/folders/vz/g5ckykx10495r0yjfwjkbkx40000gn/T/ipykernel_99399/322020046.py:39: FutureWarning: DataFrameGroupBy.apply operated on the grouping columns. This behavior is deprecated, and in a future version of pandas the grouping columns will be excluded from the operation. Either pass `include_groups=False` to exclude the groupings or explicitly select the grouping columns after groupby to silence this warning.\n",
      "  .apply(_title_group)\n"
     ]
    }
   ],
   "source": [
    "import pandas as pd\n",
    "from pyvis.network import Network\n",
    "\n",
    "# ---- Load data ----\n",
    "csv_path = \"data/game-of-thrones-battles.csv\"\n",
    "battles = pd.read_csv(csv_path)\n",
    "\n",
    "# Keep only the columns we truly need for the network\n",
    "df = battles[[\"name\", \"attacker_king\", \"defender_king\", \"attacker_size\", \"defender_size\"]].dropna(subset=[\"attacker_king\", \"defender_king\", \"name\"])\n",
    "\n",
    "# ---- Compute edge weights (# of battles per attacker->defender) ----\n",
    "weights = (\n",
    "    df.groupby([\"attacker_king\", \"defender_king\"])\n",
    "    .size()\n",
    "    .rename(\"n_battles\")\n",
    ")\n",
    "\n",
    "# ---- Compute edge titles: comma-joined unique battle names; include sizes when available ----\n",
    "def _title_group(g):\n",
    "    names = []\n",
    "    for _, row in g.iterrows():\n",
    "        battle = str(row[\"name\"])\n",
    "        a_sz = row.get(\"attacker_size\", None)\n",
    "        d_sz = row.get(\"defender_size\", None)\n",
    "        # Append sizes only when both are not NaN\n",
    "        if pd.notna(a_sz) and pd.notna(d_sz):\n",
    "            names.append(f\"{battle} (att:{int(a_sz):,} vs def:{int(d_sz):,})\")\n",
    "        else:\n",
    "            names.append(battle)\n",
    "    # de-duplicate while preserving order\n",
    "    seen = set(); ordered = []\n",
    "    for n in names:\n",
    "        if n not in seen:\n",
    "            seen.add(n); ordered.append(n)\n",
    "    return \", \".join(ordered)\n",
    "\n",
    "titles = (\n",
    "    df.groupby([\"attacker_king\", \"defender_king\"])\n",
    "      .apply(_title_group)\n",
    "      .rename(\"title\")\n",
    ")\n",
    "\n",
    "# Merge weights + titles into a single edge table\n",
    "edges_tbl = pd.concat([weights, titles], axis=1).reset_index()\n",
    "\n",
    "# ---- Build nodes (all unique kings) ----\n",
    "kings = sorted(set(df[\"attacker_king\"]).union(set(df[\"defender_king\"])))\n",
    "\n",
    "# Node \"value\": out-degree (unique defenders attacked) + 1\n",
    "out_adj = (\n",
    "    edges_tbl.groupby(\"attacker_king\")[\"defender_king\"]\n",
    "    .apply(lambda s: set(s.tolist()))\n",
    "    .to_dict()\n",
    ")\n",
    "node_values = {k: 1 + len(out_adj.get(k, set())) for k in kings}\n",
    "\n",
    "# ---- Create the network ----\n",
    "net = Network(\n",
    "    height=\"1000px\",\n",
    "    width=\"100%\",\n",
    "    bgcolor=\"#242020\",\n",
    "    font_color=\"white\",\n",
    "    directed=True,\n",
    "    cdn_resources=\"remote\",   # ensure CDN JS is used in the HTML\n",
    ")\n",
    "\n",
    "# Optional: simple color mapping by out-degree bucket (for visual variety)\n",
    "def color_for_value(v):\n",
    "    if v >= 4:\n",
    "        return \"red\"\n",
    "    if v == 3:\n",
    "        return \"purple\"\n",
    "    if v == 2:\n",
    "        return \"orange\"\n",
    "    return \"green\"\n",
    "\n",
    "for k in kings:\n",
    "    v = node_values[k]\n",
    "    net.add_node(k, label=k, value=v, color=color_for_value(v), shape=\"dot\")\n",
    "\n",
    "# ---- Add edges with weights + titles ----\n",
    "for _, r in edges_tbl.iterrows():\n",
    "    net.add_edge(\n",
    "        r[\"attacker_king\"],\n",
    "        r[\"defender_king\"],\n",
    "        value=int(r[\"n_battles\"]),\n",
    "        title=str(r[\"title\"]),\n",
    "        arrows=\"to\",\n",
    "    )\n",
    "\n",
    "# (Optional) Physics & interaction options similar to class examples\n",
    "net.set_options('''\n",
    "{\n",
    "  \"edges\": {\n",
    "    \"smooth\": { \"enabled\": true, \"type\": \"dynamic\" }\n",
    "  },\n",
    "  \"physics\": {\n",
    "    \"enabled\": true,\n",
    "    \"stabilization\": { \"enabled\": true, \"iterations\": 1000 }\n",
    "  },\n",
    "  \"interaction\": {\n",
    "    \"dragNodes\": true,\n",
    "    \"hideEdgesOnDrag\": false,\n",
    "    \"hideNodesOnDrag\": false\n",
    "  }\n",
    "}\n",
    "''')\n",
    "\n",
    "out_html = \"Lab1-task1-net5kings.html\"\n",
    "net.write_html(out_html)\n",
    "print(f\"✅ Wrote {out_html}\")"
   ]
  }
 ],
 "metadata": {
  "kernelspec": {
   "display_name": ".venv",
   "language": "python",
   "name": "python3"
  },
  "language_info": {
   "codemirror_mode": {
    "name": "ipython",
    "version": 3
   },
   "file_extension": ".py",
   "mimetype": "text/x-python",
   "name": "python",
   "nbconvert_exporter": "python",
   "pygments_lexer": "ipython3",
   "version": "3.13.2"
  }
 },
 "nbformat": 4,
 "nbformat_minor": 5
}
